{
 "cells": [
  {
   "cell_type": "markdown",
   "source": [
    "# MarkovChain.py Examples\n",
    "Useful functions and classes for ISEN 340: Operations Research II\n",
    "\n",
    "Author: Christopher Abib"
   ],
   "metadata": {
    "collapsed": false
   }
  },
  {
   "cell_type": "code",
   "execution_count": 1,
   "metadata": {
    "collapsed": true,
    "ExecuteTime": {
     "end_time": "2023-12-22T16:05:36.560520Z",
     "start_time": "2023-12-22T16:05:35.649971Z"
    }
   },
   "outputs": [],
   "source": [
    "import numpy as np\n",
    "import matplotlib.pyplot as plt\n",
    "from IPython.display import display\n",
    "from MarkovChain import (MarkovChainSteadyState,\n",
    "                         first_passage,\n",
    "                         expected_visits,\n",
    "                         mean_first_passage,\n",
    "                         build_lam_matrix,\n",
    "                         random_P_matrix,\n",
    "                         CTMC,\n",
    "                         MMC)\n",
    "plt.style.use('seaborn-darkgrid')"
   ]
  },
  {
   "cell_type": "markdown",
   "source": [
    "## np.matrix Operations\n",
    "Numpy comes built in with a bunch of useful methods and shortcuts when working with `np.matrix`.\n",
    "Here are the [Docs](https://numpy.org/doc/stable/reference/generated/numpy.matrix.html)."
   ],
   "metadata": {
    "collapsed": false
   }
  },
  {
   "cell_type": "code",
   "execution_count": 2,
   "outputs": [
    {
     "data": {
      "text/plain": "matrix([[1, 2, 3],\n        [4, 5, 6],\n        [7, 8, 0]])"
     },
     "execution_count": 2,
     "metadata": {},
     "output_type": "execute_result"
    }
   ],
   "source": [
    "# Create a matrix.\n",
    "A = np.matrix(\n",
    "    [[1, 2, 3],\n",
    "     [4, 5, 6],\n",
    "     [7, 8, 0]]\n",
    ")\n",
    "A"
   ],
   "metadata": {
    "collapsed": false,
    "ExecuteTime": {
     "end_time": "2023-12-22T16:05:36.568785Z",
     "start_time": "2023-12-22T16:05:36.565883Z"
    }
   }
  },
  {
   "cell_type": "code",
   "execution_count": 3,
   "outputs": [
    {
     "data": {
      "text/plain": "matrix([[1, 4, 7],\n        [2, 5, 8],\n        [3, 6, 0]])"
     },
     "execution_count": 3,
     "metadata": {},
     "output_type": "execute_result"
    }
   ],
   "source": [
    "# Transpose a matrix\n",
    "A.T"
   ],
   "metadata": {
    "collapsed": false,
    "ExecuteTime": {
     "end_time": "2023-12-22T16:05:36.572854Z",
     "start_time": "2023-12-22T16:05:36.569178Z"
    }
   }
  },
  {
   "cell_type": "code",
   "execution_count": 4,
   "outputs": [
    {
     "data": {
      "text/plain": "matrix([[-1.77777778,  0.88888889, -0.11111111],\n        [ 1.55555556, -0.77777778,  0.22222222],\n        [-0.11111111,  0.22222222, -0.11111111]])"
     },
     "metadata": {},
     "output_type": "display_data"
    },
    {
     "data": {
      "text/plain": "matrix([[-1.77777778,  0.88888889, -0.11111111],\n        [ 1.55555556, -0.77777778,  0.22222222],\n        [-0.11111111,  0.22222222, -0.11111111]])"
     },
     "execution_count": 4,
     "metadata": {},
     "output_type": "execute_result"
    }
   ],
   "source": [
    "# Two ways to invert a matrix.\n",
    "display(A.I)\n",
    "A ** -1"
   ],
   "metadata": {
    "collapsed": false,
    "ExecuteTime": {
     "end_time": "2023-12-22T16:05:36.578071Z",
     "start_time": "2023-12-22T16:05:36.574291Z"
    }
   }
  },
  {
   "cell_type": "code",
   "execution_count": 5,
   "outputs": [
    {
     "data": {
      "text/plain": "matrix([[2, 3, 4],\n        [5, 6, 7],\n        [8, 9, 1]])"
     },
     "metadata": {},
     "output_type": "display_data"
    },
    {
     "data": {
      "text/plain": "matrix([[ 2,  4,  6],\n        [ 8, 10, 12],\n        [14, 16,  0]])"
     },
     "execution_count": 5,
     "metadata": {},
     "output_type": "execute_result"
    }
   ],
   "source": [
    "# Casting arithmatic and multiplication/division operations.\n",
    "display(A + 1)\n",
    "A * 2"
   ],
   "metadata": {
    "collapsed": false,
    "ExecuteTime": {
     "end_time": "2023-12-22T16:05:36.612962Z",
     "start_time": "2023-12-22T16:05:36.580420Z"
    }
   }
  },
  {
   "cell_type": "code",
   "execution_count": 6,
   "outputs": [
    {
     "data": {
      "text/plain": "matrix([[279, 360, 306],\n        [684, 873, 684],\n        [738, 900, 441]])"
     },
     "metadata": {},
     "output_type": "display_data"
    },
    {
     "data": {
      "text/plain": "matrix([[279, 360, 306],\n        [684, 873, 684],\n        [738, 900, 441]])"
     },
     "execution_count": 6,
     "metadata": {},
     "output_type": "execute_result"
    }
   ],
   "source": [
    "# Two different ways to raise a matrix to the power of 3.\n",
    "display(A ** 3)\n",
    "A * A * A"
   ],
   "metadata": {
    "collapsed": false,
    "ExecuteTime": {
     "end_time": "2023-12-22T16:05:36.613203Z",
     "start_time": "2023-12-22T16:05:36.585209Z"
    }
   }
  },
  {
   "cell_type": "code",
   "execution_count": 7,
   "outputs": [
    {
     "data": {
      "text/plain": "matrix([[1, 0, 0]])"
     },
     "metadata": {},
     "output_type": "display_data"
    },
    {
     "data": {
      "text/plain": "matrix([[1],\n        [0],\n        [0]])"
     },
     "execution_count": 7,
     "metadata": {},
     "output_type": "execute_result"
    }
   ],
   "source": [
    "# Row and column matrices.\n",
    "B = np.matrix([1, 0, 0])\n",
    "display(B)\n",
    "B.T"
   ],
   "metadata": {
    "collapsed": false,
    "ExecuteTime": {
     "end_time": "2023-12-22T16:05:36.613309Z",
     "start_time": "2023-12-22T16:05:36.590583Z"
    }
   }
  },
  {
   "cell_type": "code",
   "execution_count": 8,
   "outputs": [
    {
     "data": {
      "text/plain": "'A'"
     },
     "metadata": {},
     "output_type": "display_data"
    },
    {
     "data": {
      "text/plain": "matrix([[1, 2, 3],\n        [4, 5, 6],\n        [7, 8, 0]])"
     },
     "metadata": {},
     "output_type": "display_data"
    },
    {
     "data": {
      "text/plain": "'B'"
     },
     "metadata": {},
     "output_type": "display_data"
    },
    {
     "data": {
      "text/plain": "matrix([[1, 0, 0]])"
     },
     "metadata": {},
     "output_type": "display_data"
    },
    {
     "data": {
      "text/plain": "'A * B'"
     },
     "metadata": {},
     "output_type": "display_data"
    },
    {
     "data": {
      "text/plain": "matrix([[1, 2, 3]])"
     },
     "metadata": {},
     "output_type": "display_data"
    },
    {
     "data": {
      "text/plain": "'A.I * B.T'"
     },
     "metadata": {},
     "output_type": "display_data"
    },
    {
     "data": {
      "text/plain": "matrix([[-1.77777778],\n        [ 1.55555556],\n        [-0.11111111]])"
     },
     "metadata": {},
     "output_type": "display_data"
    }
   ],
   "source": [
    "# Matrix multiplication examples.\n",
    "display('A', A, 'B', B)\n",
    "display('A * B', B * A)\n",
    "display('A.I * B.T', A.I * B.T)"
   ],
   "metadata": {
    "collapsed": false,
    "ExecuteTime": {
     "end_time": "2023-12-22T16:05:36.613399Z",
     "start_time": "2023-12-22T16:05:36.595566Z"
    }
   }
  },
  {
   "cell_type": "markdown",
   "source": [
    "## MarkovChain Module\n",
    "This module contains a bunch of useful tools for this class. In order for it to work for you, the file must be in the same folder as the jupyter notebook you are using."
   ],
   "metadata": {
    "collapsed": false
   }
  },
  {
   "cell_type": "code",
   "execution_count": 29,
   "outputs": [],
   "source": [
    "# Use the help function to see information for class and function.\n",
    "# You can also hover over the code with you mouse if you are using a smart IDE like DataSpell.\n",
    "# Uncomment the line below if you want to see what it prints.\n",
    "import MarkovChain\n",
    "# help(MarkovChain)"
   ],
   "metadata": {
    "collapsed": false
   }
  },
  {
   "cell_type": "markdown",
   "source": [
    "## Markov Chains\n",
    "This class computes and visualizes the steady state of a Markov process."
   ],
   "metadata": {
    "collapsed": false
   }
  },
  {
   "cell_type": "code",
   "execution_count": 10,
   "outputs": [
    {
     "data": {
      "text/plain": "matrix([[0.38461538, 0.61538462]])"
     },
     "execution_count": 10,
     "metadata": {},
     "output_type": "execute_result"
    }
   ],
   "source": [
    "# We first create a probability matrix that represents a Markov Process that we have modeled.\n",
    "P1 = np.matrix(\n",
    "    [[.2, .8],\n",
    "     [.5, .5]]\n",
    ")\n",
    "\n",
    "# Then, it is passed as an argument to create a `MarkovChainSteadyState` object.\n",
    "ss = MarkovChainSteadyState(P=P1)\n",
    "# Finally we can access the `pi` attribute of the object to see the steady state probability.\n",
    "ss.pi"
   ],
   "metadata": {
    "collapsed": false,
    "ExecuteTime": {
     "end_time": "2023-12-22T16:05:36.695247Z",
     "start_time": "2023-12-22T16:05:36.609269Z"
    }
   }
  },
  {
   "cell_type": "code",
   "execution_count": 11,
   "outputs": [
    {
     "data": {
      "text/plain": "15"
     },
     "execution_count": 11,
     "metadata": {},
     "output_type": "execute_result"
    }
   ],
   "source": [
    "# We can also see how many steps it took to reach that answer.\n",
    "ss.steps"
   ],
   "metadata": {
    "collapsed": false
   }
  },
  {
   "cell_type": "code",
   "execution_count": 12,
   "outputs": [
    {
     "name": "stdout",
     "output_type": "stream",
     "text": [
      "π = [[0.38461538 0.61538462]]\n",
      "steps = 15\n"
     ]
    },
    {
     "data": {
      "text/plain": "<Figure size 640x480 with 1 Axes>",
      "image/png": "[encoded data removed]"
     },
     "metadata": {},
     "output_type": "display_data"
    }
   ],
   "source": [
    "# The `summary` method was provided to cleanly present the results of the calculations.\n",
    "ss.summary()"
   ],
   "metadata": {
    "collapsed": false
   }
  },
  {
   "cell_type": "code",
   "execution_count": 13,
   "outputs": [
    {
     "data": {
      "text/plain": "π = [[0.38461538 0.61538462]]\nsteps = 15"
     },
     "execution_count": 13,
     "metadata": {},
     "output_type": "execute_result"
    }
   ],
   "source": [
    "# All of these classes have a custom __str__ method, so we can actually see information by just putting the object in the last line of a cell.\n",
    "MarkovChainSteadyState(P=P1)"
   ],
   "metadata": {
    "collapsed": false
   }
  },
  {
   "cell_type": "code",
   "execution_count": 14,
   "outputs": [
    {
     "data": {
      "text/plain": "π = [[0.3844808 0.6155192]]\nsteps = 7"
     },
     "execution_count": 14,
     "metadata": {},
     "output_type": "execute_result"
    }
   ],
   "source": [
    "# We can also mess around with how precise we want the calculations to be.\n",
    "ss = MarkovChainSteadyState(P=P1,\n",
    "                            significance=0.001,\n",
    "                            max_iterations=10_000)\n",
    "ss"
   ],
   "metadata": {
    "collapsed": false,
    "ExecuteTime": {
     "end_time": "2023-12-22T16:05:36.700685Z",
     "start_time": "2023-12-22T16:05:36.697315Z"
    }
   }
  },
  {
   "cell_type": "markdown",
   "source": [
    "## Expected Visits\n",
    "Calculates the expected number of visits to a state `stop` starting from state `start` over the course of `n` state transitions for a given probability matrix."
   ],
   "metadata": {
    "collapsed": false
   }
  },
  {
   "cell_type": "code",
   "execution_count": 15,
   "outputs": [
    {
     "data": {
      "text/plain": "1.5653319882500005"
     },
     "execution_count": 15,
     "metadata": {},
     "output_type": "execute_result"
    }
   ],
   "source": [
    "P2 = np.matrix(\n",
    "    [[0, .5, .25, .25],\n",
    "     [.8, 0, .1, .1],\n",
    "     [.8, .1, 0, .1],\n",
    "     [.8, .1, .1, 0]]\n",
    ")\n",
    "\n",
    "# The expected number of visits to state 3 during 10 state transitions, given we started at state 0.\n",
    "expected_visits(P2, 0, 3, 10)"
   ],
   "metadata": {
    "collapsed": false,
    "ExecuteTime": {
     "end_time": "2023-12-22T16:05:36.742056Z",
     "start_time": "2023-12-22T16:05:36.712663Z"
    }
   }
  },
  {
   "cell_type": "markdown",
   "source": [
    "## First Passage\n",
    "Calculates the first passage probability for a given probability matrix.\n",
    "\n",
    "Indices for `start` and `stop` begin at zero."
   ],
   "metadata": {
    "collapsed": false
   }
  },
  {
   "cell_type": "code",
   "execution_count": 16,
   "outputs": [
    {
     "data": {
      "text/plain": "0.0108"
     },
     "execution_count": 16,
     "metadata": {},
     "output_type": "execute_result"
    }
   ],
   "source": [
    "P3 = np.matrix(\n",
    "    [[.4, .3, 0, .3, 0, 0],\n",
    "     [.5, .3, .2, 0, 0, 0],\n",
    "     [0, .7, .2, 0, 0, .1],\n",
    "     [.5, 0, 0, .3, .2, 0],\n",
    "     [0, 0, 0, .7, .2, .1],\n",
    "     [0, 0, 0, 0, 0, 1]]\n",
    ")\n",
    "# The probability that you start at state 0 and arrive at state 5 in EXACTLY 4 steps.\n",
    "first_passage(P=P3, start=0, stop=5, steps=4)"
   ],
   "metadata": {
    "collapsed": false
   }
  },
  {
   "cell_type": "code",
   "execution_count": 17,
   "outputs": [
    {
     "data": {
      "text/plain": "0.0228"
     },
     "execution_count": 17,
     "metadata": {},
     "output_type": "execute_result"
    }
   ],
   "source": [
    "# The probability that you start at state 0 and arrive at state 5 in 4 steps OR FEWER.\n",
    "sum([first_passage(P=P3, start=0, stop=5, steps=n) for n in range(1, 5)])"
   ],
   "metadata": {
    "collapsed": false
   }
  },
  {
   "cell_type": "markdown",
   "source": [
    "## Mean First Passage\n",
    "Calculates the expected number of state transitions it takes to get from state `start` to state `stop`.\n",
    "\n",
    "Indices for `start` and `stop` begin at zero."
   ],
   "metadata": {
    "collapsed": false
   }
  },
  {
   "cell_type": "code",
   "execution_count": 18,
   "outputs": [
    {
     "data": {
      "text/plain": "3.6"
     },
     "execution_count": 18,
     "metadata": {},
     "output_type": "execute_result"
    }
   ],
   "source": [
    "P4 = np.matrix(\n",
    "    [[0, .5, .25, .25],\n",
    "     [.8, 0, .1, .1],\n",
    "     [.8, .1, 0, .1],\n",
    "     [.8, .1, .1, 0]]\n",
    ")\n",
    "\n",
    "# The mean number of steps it takes to get from state 2 to state 1.\n",
    "mean_first_passage(P=P4, start=2, stop=1)"
   ],
   "metadata": {
    "collapsed": false
   }
  },
  {
   "cell_type": "markdown",
   "source": [
    "## Random Probability Matrix\n",
    "Creates a random `np.matrix` of size m x m whose rows sum to 1."
   ],
   "metadata": {
    "collapsed": false
   }
  },
  {
   "cell_type": "code",
   "execution_count": 19,
   "outputs": [
    {
     "data": {
      "text/plain": "matrix([[0.67, 0.28, 0.05],\n        [0.01, 0.47, 0.52],\n        [0.32, 0.39, 0.29]])"
     },
     "execution_count": 19,
     "metadata": {},
     "output_type": "execute_result"
    }
   ],
   "source": [
    "# A random probability matrix of size 3x3, given a seed of 0.\n",
    "P5 = random_P_matrix(3, seed=0, digits=2)\n",
    "P5"
   ],
   "metadata": {
    "collapsed": false,
    "ExecuteTime": {
     "end_time": "2023-12-22T16:05:36.742293Z",
     "start_time": "2023-12-22T16:05:36.721545Z"
    }
   }
  },
  {
   "cell_type": "code",
   "execution_count": 20,
   "outputs": [
    {
     "data": {
      "text/plain": "matrix([[0.38, 0.29, 0.33],\n        [0.03, 0.46, 0.51],\n        [0.59, 0.23, 0.18]])"
     },
     "execution_count": 20,
     "metadata": {},
     "output_type": "execute_result"
    }
   ],
   "source": [
    "# A random probability matrix of size 3x3.\n",
    "# It changes every time the code is run because it was not supplied a seed.\n",
    "P6 = random_P_matrix(3, seed=None, digits=2)\n",
    "P6"
   ],
   "metadata": {
    "collapsed": false
   }
  },
  {
   "cell_type": "markdown",
   "source": [
    "## Lambda Matrix\n",
    "Creates a valid lambda matrix when given a matrix that has diagonal values of 0."
   ],
   "metadata": {
    "collapsed": false
   }
  },
  {
   "cell_type": "code",
   "execution_count": 21,
   "outputs": [
    {
     "data": {
      "text/plain": "matrix([[-3,  1,  2],\n        [ 3, -4,  1],\n        [ 2,  1, -3]])"
     },
     "execution_count": 21,
     "metadata": {},
     "output_type": "execute_result"
    }
   ],
   "source": [
    "# We start by creating a lambda matrix,\n",
    "# but we don't do the calculations for diagonal values.\n",
    "lam = np.matrix(\n",
    "    [[0, 1, 2],\n",
    "     [3, 0, 1],\n",
    "     [2, 1, 0]]\n",
    ")\n",
    "\n",
    "# This function will calculate the diagonals for us.\n",
    "lam_matrix = build_lam_matrix(lam)\n",
    "\n",
    "lam_matrix"
   ],
   "metadata": {
    "collapsed": false,
    "ExecuteTime": {
     "end_time": "2023-12-22T16:07:52.840189Z",
     "start_time": "2023-12-22T16:07:52.825739Z"
    }
   }
  },
  {
   "cell_type": "code",
   "execution_count": 22,
   "outputs": [],
   "source": [
    "# Of course, you could just do the math yourself and get the same thing.\n",
    "lam_matrix = np.matrix(\n",
    "    [[-3, 1, 2],\n",
    "     [3, -4, 1],\n",
    "     [2, 1, -3]]\n",
    ")"
   ],
   "metadata": {
    "collapsed": false
   }
  },
  {
   "cell_type": "markdown",
   "source": [
    "## Continuous Time Markov Chain\n",
    "This class models a Continuous Time Markov Chain and solves for its steady state."
   ],
   "metadata": {
    "collapsed": false
   }
  },
  {
   "cell_type": "code",
   "execution_count": 23,
   "outputs": [
    {
     "name": "stdout",
     "output_type": "stream",
     "text": [
      "The steady state probability for state 1 is 0.44\n",
      "The steady state probability for state 2 is 0.2\n",
      "The steady state probability for state 3 is 0.36\n"
     ]
    },
    {
     "data": {
      "text/plain": "<Figure size 640x480 with 1 Axes>",
      "image/png": "[encoded data removed]"
     },
     "metadata": {},
     "output_type": "display_data"
    }
   ],
   "source": [
    "# Given a lambda matrix and a random probability matrix (with seed=0),\n",
    "# calculate the steady state probabilities.\n",
    "CTMC(lambda_matrix=lam_matrix, T=100, P=None).summary()"
   ],
   "metadata": {
    "collapsed": false,
    "ExecuteTime": {
     "end_time": "2023-12-22T16:09:29.256358Z",
     "start_time": "2023-12-22T16:09:29.163933Z"
    }
   }
  },
  {
   "cell_type": "code",
   "execution_count": 24,
   "outputs": [
    {
     "data": {
      "text/plain": "matrix([[0.44, 0.2 , 0.36]])"
     },
     "execution_count": 24,
     "metadata": {},
     "output_type": "execute_result"
    }
   ],
   "source": [
    "# We can access some attributes directly.\n",
    "ctmc = CTMC(lambda_matrix=lam_matrix, T=100, P=None)\n",
    "ctmc.pi"
   ],
   "metadata": {
    "collapsed": false
   }
  },
  {
   "cell_type": "markdown",
   "source": [
    "## M/M/C Queuing Model\n",
    "Calculates the performance measures of an M/M/C queuing model."
   ],
   "metadata": {
    "collapsed": false
   }
  },
  {
   "cell_type": "code",
   "execution_count": 25,
   "outputs": [
    {
     "data": {
      "text/plain": "ρ: 0.4000\nπ_0: 0.4286\nu: 0.4000\nL: 0.9524\nL_q: 0.1524\nW: 2.3810\nW_q: 0.3810"
     },
     "execution_count": 25,
     "metadata": {},
     "output_type": "execute_result"
    }
   ],
   "source": [
    "# Given an arrival rate of .4, a process rate of .5, 2 servers,\n",
    "# calculate the performance measures.\n",
    "MMC(lam=.4, mu=.5, c=2)"
   ],
   "metadata": {
    "collapsed": false
   }
  },
  {
   "cell_type": "code",
   "execution_count": 26,
   "outputs": [
    {
     "data": {
      "text/plain": "ρ: 0.4000\nπ_0: 0.4286\nπ_8: 0.0014\nu: 0.4000\nL: 0.9524\nL_q: 0.1524\nW: 2.3810\nW_q: 0.3810"
     },
     "execution_count": 26,
     "metadata": {},
     "output_type": "execute_result"
    }
   ],
   "source": [
    "# The same measures, but calculate 8 more pi values.\n",
    "MMC(lam=.4, mu=.5, c=2, k=8)"
   ],
   "metadata": {
    "collapsed": false
   }
  },
  {
   "cell_type": "code",
   "execution_count": 27,
   "outputs": [
    {
     "data": {
      "text/plain": "0.15238095238095242"
     },
     "execution_count": 27,
     "metadata": {},
     "output_type": "execute_result"
    }
   ],
   "source": [
    "# We can access some attributes directly here too.\n",
    "mmc = MMC(lam=.4, mu=.5, c=2, k=8)\n",
    "mmc.L_q"
   ],
   "metadata": {
    "collapsed": false
   }
  }
 ],
 "metadata": {
  "kernelspec": {
   "display_name": "Python 3",
   "language": "python",
   "name": "python3"
  },
  "language_info": {
   "codemirror_mode": {
    "name": "ipython",
    "version": 2
   },
   "file_extension": ".py",
   "mimetype": "text/x-python",
   "name": "python",
   "nbconvert_exporter": "python",
   "pygments_lexer": "ipython2",
   "version": "2.7.6"
  }
 },
 "nbformat": 4,
 "nbformat_minor": 0
}
